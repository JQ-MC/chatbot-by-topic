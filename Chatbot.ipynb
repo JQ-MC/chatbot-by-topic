{
 "cells": [
  {
   "cell_type": "markdown",
   "metadata": {},
   "source": [
    "# Assignment 7: Dialogue systems and question answering\n",
    "\n",
    "In order to try the chatbot, run the whole code sequentially.\n",
    "\n",
    "* Libraries"
   ]
  },
  {
   "cell_type": "code",
   "execution_count": 1,
   "metadata": {},
   "outputs": [],
   "source": [
    "# to find patterns in text\n",
    "import re\n",
    "\n",
    "# to randomize questions\n",
    "import random\n",
    "\n",
    "#to handle data structures and math\n",
    "import numpy as np\n",
    "import pandas as pd\n",
    "\n",
    "#to sleep\n",
    "import time"
   ]
  },
  {
   "cell_type": "markdown",
   "metadata": {},
   "source": [
    "## Logic implementation\n",
    "\n",
    "* Implementation of the Frame\n",
    "\n",
    "They are used to find and store information required to answer questions about a topic. An example is a weather forecast, where a place and a time is required to give an answer. Each frame has a priority score used to decide the order in which frames are asked first, an array of different formulations asking the user for the relevant information and a parser for finding the relevant information given a user input. "
   ]
  },
  {
   "cell_type": "code",
   "execution_count": 2,
   "metadata": {},
   "outputs": [],
   "source": [
    "class Frame():\n",
    "    def __init__(self):\n",
    "        self.name = \"\"\n",
    "        self.information = \"\"\n",
    "        self.priority = int()\n",
    "        self.questions = []\n",
    "        self.decoder = \"\"\n",
    "\n",
    "    def is_empty(self):\n",
    "        return self.information == \"\"\n",
    "    \n",
    "    def make_question(self):\n",
    "        return random.choice(self.questions)\n",
    "    \n",
    "    def parser(self, input_sentence):\n",
    "        \"\"\"\n",
    "        retrieves the information of the input sentence of a given frame\n",
    "        \"\"\"\n",
    "\n",
    "        input_sentence = input_sentence.lower()\n",
    "\n",
    "        len_input = len(input_sentence.split())\n",
    "        if len_input == 1:\n",
    "            information = input_sentence\n",
    "        \n",
    "        else:\n",
    "            information = re.findall(self.decoder, input_sentence)\n",
    "\n",
    "            # if nothing is found\n",
    "            if information ==[]:\n",
    "                information = \"\"\n",
    "\n",
    "            if len(information)==1:\n",
    "                information = information[0]\n",
    "        \n",
    "        return information\n",
    "\n",
    "    def set_information(self, input_sentence):\n",
    "        information = self.parser(input_sentence)\n",
    "        self.information = information\n",
    "        \n"
   ]
  },
  {
   "cell_type": "markdown",
   "metadata": {},
   "source": [
    "* Implementation of scenario\n",
    "\n",
    "The components of a scenario are a vocabulary, a predefined question to ask the user, and an array of necessary information to make an appropriate response. The vocabulary is a list of keywords which the chatbot matches with the user input in order to guess the scenario. For a weather bot, the vocabulary of one scenario might contain hot, cold, temperature while another scenario’s vocabulary contains sun, sunny."
   ]
  },
  {
   "cell_type": "code",
   "execution_count": 3,
   "metadata": {},
   "outputs": [],
   "source": [
    "class Scenario():\n",
    "\n",
    "    def __init__(self):\n",
    "        self.vocabulary = []\n",
    "        self.name = \"\"\n",
    "        self.question = \"\"\n",
    "        self.needed_information = []\n",
    "\n"
   ]
  },
  {
   "cell_type": "markdown",
   "metadata": {},
   "source": [
    "* Implementation of Topic\n",
    "\n",
    "It contains a list of scenarios, a vocabulary, a database, a filter (required frame), and a list of frames. Topic is also where the main logic functions are implemented. The vocabulary is initiated as a list of generic keywords for a specific topic. Then, the vocabularies of all its scenarios are concatenated to the list, generating one main vocabulary that is used to guess the topic of the user input. For our weather bot, the complete vocabulary contains words such as weather, hot, and sun."
   ]
  },
  {
   "cell_type": "code",
   "execution_count": 4,
   "metadata": {},
   "outputs": [],
   "source": [
    "# Abstract class\n",
    "class Topic():\n",
    "    \n",
    "    def __init__(self):\n",
    "\n",
    "        self.vocabulary = []\n",
    "        self.scenarios = []\n",
    "        self.name = str()\n",
    "        self.frames = []\n",
    "        self.is_filled = False\n",
    "        self.temp_scenario = None\n",
    "        self.data_base = pd.DataFrame()\n",
    "        self.filter = \"\"\n",
    "\n",
    "    def build_vocabulary(self):\n",
    "        \"\"\"\n",
    "        Builds the topic vocabulary based on the scenarios vocabulary\n",
    "        \"\"\"\n",
    "        for scenario in self.scenarios:\n",
    "            self.vocabulary = self.vocabulary + scenario.vocabulary\n",
    "\n",
    "    def are_frames_empty(self):\n",
    "        \"\"\"\n",
    "        cheks if all necessary frames are empty and returns True if any of them is\n",
    "        \"\"\"\n",
    "        return np.any([frame.is_empty() for frame in self.frames])\n",
    "\n",
    "    def get_highest_priority_frame(self):\n",
    "        frames = [frame for frame in self.frames if frame.is_empty()]\n",
    "        frames.sort(key = lambda x: x.priority)\n",
    "        return frames[0]\n",
    "\n",
    "\n",
    "    def ask_for_frames(self):\n",
    "        \"\"\"\n",
    "        Insists to retrieve information of the frame with the highest priority\n",
    "        \"\"\"\n",
    "        frame = self.get_highest_priority_frame()\n",
    "        \n",
    "        #ask question\n",
    "        input_question = frame.make_question()\n",
    "        answer = handle_input(input_question)\n",
    "\n",
    "        #collect answer\n",
    "        result = frame.parser(answer)\n",
    "\n",
    "        # Check result\n",
    "        if result != \"\":\n",
    "            frame.set_information(result)\n",
    "\n",
    "    def complete_frames(self, input_sentence):\n",
    "        \"\"\"\n",
    "        Aims to look for the frames of the topic and store their information\n",
    "        \"\"\"\n",
    "\n",
    "        # Check if with the input sentence we can complete the frames\n",
    "        for frame in self.frames:\n",
    "            if frame.is_empty():\n",
    "                frame.set_information(input_sentence)\n",
    "\n",
    "        \n",
    "        # if not, ask for them.\n",
    "        while self.are_frames_empty():\n",
    "            self.ask_for_frames()\n",
    "\n",
    "    def guess_scenario(self, input_sentence):\n",
    "        \"\"\"\n",
    "        Returns the most appropiate scenario fiven a user sentence\n",
    "        \"\"\"\n",
    "\n",
    "        # Tries by looking at similarities in the input of the sentence\n",
    "        input_sentence = input_sentence.lower().split()\n",
    "        scenario_vocab = [scenario.vocabulary for scenario in self.scenarios]\n",
    "        counter = []\n",
    "        for vocab in scenario_vocab:\n",
    "            score = 0\n",
    "            for word in input_sentence:\n",
    "                if word in vocab:\n",
    "                    score +=1\n",
    "\n",
    "            counter.append(score)\n",
    "\n",
    "        # If there is any score of the scenario is higher than 0, we retrieve a scenario\n",
    "        if np.any(np.array(counter)>0):\n",
    "            index_max = counter.index(max(counter))\n",
    "            scenario = self.scenarios[index_max]\n",
    "\n",
    "        # If the user input is not sufficient, we ask for a possible scenario to the user\n",
    "        else:\n",
    "            scenario = self.ask_scenario()\n",
    "\n",
    "        if scenario != None:\n",
    "            self.temp_scenario = scenario\n",
    "\n",
    "        return\n",
    "\n",
    "    def ask_scenario(self):\n",
    "        \"\"\"\n",
    "        Asks iteratively for a scenario in the scenarios of the topic\n",
    "        \"\"\"\n",
    "        for scenario in self.scenarios:\n",
    "            question_input = scenario.question\n",
    "            answer = handle_input(question_input)\n",
    "            if re.search(\"yes\", answer.lower()):\n",
    "                return scenario\n",
    "\n",
    "        # If nothing is found. Handle later\n",
    "        return None\n",
    "            \n",
    "\n",
    "    def respond(self):\n",
    "        \"\"\"\n",
    "        Response function\n",
    "        \"\"\"\n",
    "\n",
    "        response_data = self.get_data()\n",
    "        response = decoder(response_data)\n",
    "\n",
    "        return response\n",
    "\n",
    "    def retrieve_filter_value(self):\n",
    "        \"\"\"\n",
    "        Retrieve the information stored in the filtering frame\n",
    "        \"\"\"\n",
    "        \n",
    "        for frame in self.frames:\n",
    "            if frame.name == self.filter:\n",
    "                return frame.information\n",
    "\n",
    "    def get_data(self):\n",
    "        \"\"\"\n",
    "        filters and adapts the data to pass it to the decoder\n",
    "        \"\"\"\n",
    "\n",
    "        # get necessary filters of the topic\n",
    "        filter_by = self.filter\n",
    "        filter_value = self.retrieve_filter_value()\n",
    "        select = self.temp_scenario.needed_information\n",
    "\n",
    "        # retrieve information\n",
    "        df = self.data_base\n",
    "        aux_df = df[df[filter_by] == filter_value]\n",
    "        aux_df = aux_df.filter(select)\n",
    "\n",
    "        return aux_df\n",
    "\n"
   ]
  },
  {
   "cell_type": "markdown",
   "metadata": {},
   "source": [
    "* Implementation of the Chatbot"
   ]
  },
  {
   "cell_type": "code",
   "execution_count": 5,
   "metadata": {},
   "outputs": [],
   "source": [
    "class Chatbot():\n",
    "\n",
    "    def __init__(self):\n",
    "        self.topics = []\n",
    "        self.temp_topic = None\n",
    "\n",
    "    def start_chatbot(self):\n",
    "\n",
    "        print(\"Welcome to the Chatbot!\")\n",
    "        print(\"I provide information about \" + self.find_all_topics() + \".\")\n",
    "        print(\"In order to shut me down, input STOP.\")\n",
    "        print()\n",
    "        time.sleep(0.5)\n",
    "\n",
    "        input_question = \"What do you want to know?\"\n",
    "        answer = handle_input(input_question)\n",
    "        while answer !=\"STOP\":\n",
    "\n",
    "            #guesses topic\n",
    "            self.guess_topic(input_sentence=answer)\n",
    "\n",
    "            if self.temp_topic != None:\n",
    "\n",
    "                #guesses scenario\n",
    "                self.temp_topic.guess_scenario(answer)\n",
    "\n",
    "                if self.temp_topic.temp_scenario !=None:\n",
    "\n",
    "                    # completes the frames of the topic\n",
    "                    self.temp_topic.complete_frames(answer)\n",
    "                    \n",
    "                    # responds accordingly\n",
    "                    response = self.temp_topic.respond()\n",
    "                    print(\"Chatbot: \", response)\n",
    "\n",
    "                    # Restart\n",
    "                    time.sleep(0.5)\n",
    "                    input_sentence = \"What else do you want to know?\"\n",
    "                    answer = handle_input(input_sentence)\n",
    "\n",
    "                    # information is reseted\n",
    "                    self.reset_knowledge()\n",
    "                \n",
    "                else:\n",
    "                    input_sentence = \"I am sorry, I don't have more information. Try again please. What do you want to know?\"\n",
    "                    answer = handle_input(input_sentence)\n",
    "\n",
    "            else:\n",
    "                input_sentence = \"I am sorry, I did not understand you. Try again please. What do you want to know?\"\n",
    "                answer = handle_input(input_sentence)\n",
    "\n",
    "    def find_all_topics(self):\n",
    "        topics = [topic.name for topic in self.topics]\n",
    "        return \", \".join(topics)\n",
    "\n",
    "    def guess_topic(self, input_sentence):\n",
    "        \"\"\"\n",
    "        Returns the most appropiate topic fiven a user sentence\n",
    "        \"\"\"\n",
    "\n",
    "        input_sentence = input_sentence.lower().split()\n",
    "        topics_vocab = [topic.vocabulary for topic in self.topics]\n",
    "        counter = []\n",
    "        for vocab in topics_vocab:\n",
    "            score =0\n",
    "            for word in input_sentence:\n",
    "                if word in vocab:\n",
    "                    score +=1\n",
    "\n",
    "            counter.append(score)\n",
    "\n",
    "        # if any scores 1 point at least\n",
    "        if np.any(np.array(counter)>0):\n",
    "\n",
    "            index_max = counter.index(max(counter))\n",
    "            self.temp_topic = self.topics[index_max]\n",
    "            \n",
    "        return\n",
    "\n",
    "    def reset_knowledge(self):\n",
    "        \"\"\"\n",
    "        resets the knowledge of the topic by default \n",
    "        \"\"\"\n",
    "\n",
    "        # frames of the topic\n",
    "        for frame in self.temp_topic.frames:\n",
    "            frame.information=\"\"\n",
    "\n",
    "        # scenario\n",
    "        self.temp_topic.temp_scenario = None\n",
    "        \n",
    "        #topic\n",
    "        self.temp_topic = None\n",
    "\n",
    "    \n",
    "        return\n",
    "\n",
    "\n",
    "\n",
    "\n"
   ]
  },
  {
   "cell_type": "markdown",
   "metadata": {},
   "source": [
    "* Other functions"
   ]
  },
  {
   "cell_type": "code",
   "execution_count": 6,
   "metadata": {},
   "outputs": [],
   "source": [
    "\"\"\"\n",
    "Used for returning a human reading response in the decoder\n",
    "\"\"\"\n",
    "answers_dict = {\n",
    "    \"snow\": \"it will {result} snow\", \n",
    "    \"rain\": \"it will {result} rain\",\n",
    "    \"sun\" : \"it will {result} be sunny\",\n",
    "    \"temperature\": \"it will be {result} degrees\",\n",
    "    \"restaurant\": \"A restaurant named {result} \",\n",
    "    \"sushi\": \"is {result} based on sushi\",\n",
    "    \"italian\": \" is {result} italian\",\n",
    "    \"vegan\": \" is {result} vegan\",\n",
    "    \"station\": \" in {result}\",\n",
    "    \"bus\": \"The next bus leaves at {result}\",\n",
    "    \"tram\": \"The next tram leaves at {result}\"\n",
    "    }"
   ]
  },
  {
   "cell_type": "code",
   "execution_count": 7,
   "metadata": {},
   "outputs": [],
   "source": [
    "def decoder(df):\n",
    "    \"\"\"\n",
    "    Given a dataframe, decodes to string its content\n",
    "    \"\"\"\n",
    "    final_string = \"\"\n",
    "    for i in range(df.shape[0]):\n",
    "        df_line = df.iloc[i,]\n",
    "        \n",
    "        for name, val in zip(df_line.index,df_line.values):\n",
    "            result_string = structure_result(value=val, name=name)\n",
    "            final_string += result_string + \" \"\n",
    "\n",
    "        final_string +=\"\\n\"\n",
    "\n",
    "    return final_string"
   ]
  },
  {
   "cell_type": "code",
   "execution_count": 8,
   "metadata": {},
   "outputs": [],
   "source": [
    "def structure_result(value, name):\n",
    "    \"\"\"\n",
    "    Decodes to string a particular data case\n",
    "    \"\"\"\n",
    "\n",
    "    if value == True:\n",
    "        res = \"\"\n",
    "    elif value == False:\n",
    "        res = \"not\"\n",
    "    else:\n",
    "        res = str(value)\n",
    "\n",
    "    result = answers_dict[name].format(result = res)\n",
    "\n",
    "    return result"
   ]
  },
  {
   "cell_type": "code",
   "execution_count": 9,
   "metadata": {},
   "outputs": [],
   "source": [
    "def handle_input(input_question):\n",
    "    \"\"\"\n",
    "    Function that handles all inputs\n",
    "    \"\"\"\n",
    "\n",
    "    print(\"Chatbot: \", input_question)\n",
    "\n",
    "    answer = input(input_question + \" \")\n",
    "\n",
    "    print(\"User: \", answer)\n",
    "\n",
    "    if answer == \"STOP\":\n",
    "        print(\"The Chatbot has been turned off\")\n",
    "\n",
    "    return answer\n"
   ]
  },
  {
   "cell_type": "markdown",
   "metadata": {},
   "source": [
    "## Information filling\n",
    "* Weather topic\n",
    "\n",
    "It has its own frames"
   ]
  },
  {
   "cell_type": "code",
   "execution_count": 10,
   "metadata": {},
   "outputs": [],
   "source": [
    "# Weather information\n",
    "#Retrieve Where\n",
    "where = Frame()\n",
    "where.name = \"where\"\n",
    "where.priority = 1\n",
    "where.questions = [\"What place is it about?\", \"Could you provide me the name of the place?\", \"What is the name of the place?\"]\n",
    "where.decoder = \"(?:is |for |about |in )+(\\w+)\"\n",
    "\n",
    "#Retrieve when\n",
    "when = Frame()\n",
    "when.name = \"when\"\n",
    "when.priority = 2\n",
    "when.questions = [\"What day of the week is it?\", \"At what day date?\", \"What day is it?\"]\n",
    "when.decoder = \"(monday|tuesday|wednesday|thursday|friday|saturday|sunday)\""
   ]
  },
  {
   "cell_type": "markdown",
   "metadata": {},
   "source": [
    "Its associated database to base or answers on"
   ]
  },
  {
   "cell_type": "code",
   "execution_count": 11,
   "metadata": {},
   "outputs": [],
   "source": [
    "weather_data = pd.DataFrame({\"when\": [\"monday\", \"tuesday\",\"wednesday\",\"thursday\",\"friday\",\"saturday\",\"sunday\"], \n",
    "                     \"temperature\": [1,2,-1,1,0,3,2], \n",
    "                     \"sun\": [True , False, True, True, False, True, False],\n",
    "                     \"snow\": [False, True, False, False, True, False, False],\n",
    "                     \"rain\": [False, False, False, False, False, False, True]})"
   ]
  },
  {
   "cell_type": "markdown",
   "metadata": {},
   "source": [
    "Its possible scenarios"
   ]
  },
  {
   "cell_type": "code",
   "execution_count": 12,
   "metadata": {},
   "outputs": [],
   "source": [
    "\"\"\"\n",
    "Weather forecast scenarios\n",
    "\"\"\"\n",
    "sun = Scenario()\n",
    "sun.vocabulary = [\"sun\", \"sunny\"]\n",
    "sun.name = \"sun\"\n",
    "sun.question =\"Do you wanna know if it's sunny?\"\n",
    "sun.needed_information = [\"sun\"]\n",
    "\n",
    "rain = Scenario()\n",
    "rain.vocabulary =[\"rain\",\"raining\"]\n",
    "rain.name = \"rain\"\n",
    "rain.question =\"Do you wanna know if it's going to rain?\"\n",
    "rain.needed_information = [\"rain\"]\n",
    "\n",
    "snow = Scenario()\n",
    "snow.vocabulary =[\"snow\",\"snowing\"]\n",
    "snow.name = \"snow\"\n",
    "snow.question =\"Do you wanna know if it's going to snow?\"\n",
    "snow.needed_information = [\"snow\"]\n",
    "\n",
    "temperature = Scenario() \n",
    "temperature.vocabulary = [\"hot\", \"cold\", \"warm\", \"chilly\", \"temperature\"]\n",
    "temperature.name = \"temperature\"\n",
    "temperature.question =\"Do you wanna know what the temperature will be?\"\n",
    "temperature.needed_information = [\"temperature\"]\n",
    "\n",
    "forecast = Scenario() \n",
    "forecast.vocabulary = [\"forecast\"]\n",
    "forecast.name = \"weather forecast\"\n",
    "forecast.question =\"Do you wanna know the weather forecast?\"\n",
    "forecast.needed_information = [\"temperature\", \"sun\", \"snow\", \"rain\"]"
   ]
  },
  {
   "cell_type": "markdown",
   "metadata": {},
   "source": [
    "And the topic itself"
   ]
  },
  {
   "cell_type": "code",
   "execution_count": 13,
   "metadata": {},
   "outputs": [],
   "source": [
    "weather = Topic()\n",
    "weather.scenarios = [sun, rain, snow, temperature, forecast]\n",
    "weather.vocabulary = [\"weather\"]\n",
    "weather.build_vocabulary()\n",
    "weather.name = \"weather\"\n",
    "weather.frames =[where, when]\n",
    "weather.data_base = weather_data\n",
    "weather.filter = \"when\""
   ]
  },
  {
   "cell_type": "markdown",
   "metadata": {},
   "source": [
    "* Restaurant info\n",
    "\n",
    "Frames"
   ]
  },
  {
   "cell_type": "code",
   "execution_count": 14,
   "metadata": {},
   "outputs": [],
   "source": [
    "#Retrieve Where\n",
    "neighborhood = Frame()\n",
    "neighborhood.name = \"neighborhood\"\n",
    "neighborhood.priority = 1\n",
    "neighborhood.questions = [\"Where are you now?\", \"What neighborhood is it about?\", \"Could you provide me the name of the neighborhood?\"]\n",
    "neighborhood.decoder = \"(?:is |for |about |in )+(\\w+)\"\n"
   ]
  },
  {
   "cell_type": "markdown",
   "metadata": {},
   "source": [
    "Data base"
   ]
  },
  {
   "cell_type": "code",
   "execution_count": 15,
   "metadata": {},
   "outputs": [],
   "source": [
    "restoData = pd.DataFrame({\"neighborhood\": [\"haga\", \"johanneberg\",\"johanneberg\",\"haga\", \"vasa\"],\n",
    "                          \"restaurant\": [\"solrosen\", \"yoko\",\"en italienare och en grek\",\"buffebordet\", \"simba\"],  \n",
    "                          \"sushi\": [False, True, False, True, False],\n",
    "                          \"vegan\": [True, True, False, True, True],\n",
    "                          \"italian\": [False, False, True, True, False]})"
   ]
  },
  {
   "cell_type": "markdown",
   "metadata": {},
   "source": [
    "Scenarios"
   ]
  },
  {
   "cell_type": "code",
   "execution_count": 16,
   "metadata": {},
   "outputs": [],
   "source": [
    "\"\"\"\n",
    "Restaturant Scenarios\n",
    "\"\"\"\n",
    "sushi = Scenario()\n",
    "sushi.vocabulary = [\"sushi\", \"sashimi\", \"fish\", \"nori\"]\n",
    "sushi.name = \"sushi\"\n",
    "sushi.question = \"Are you looking for a sushi restaurant?\"\n",
    "sushi.needed_information =[\"restaurant\", \"sushi\"]\n",
    "\n",
    "vegan = Scenario()\n",
    "vegan.vocabulary =[\"vegan\",\"tofu\", \"beans\"]\n",
    "vegan.name = \"vegan\"\n",
    "vegan.question = \"Are you looking for a vegan restaurant?\"\n",
    "vegan.needed_information = [\"restaurant\", \"vegan\"]\n",
    "\n",
    "itaRes = Scenario()\n",
    "itaRes.vocabulary = [\"pasta\",\"pizza\",\"risotto\",\"gnocchi\"]\n",
    "itaRes.name = \"italian\"\n",
    "itaRes.question = \"Are you looking for an Italian restaurant?\"\n",
    "itaRes.needed_information = [\"restaurant\", \"italian\"]\n"
   ]
  },
  {
   "cell_type": "markdown",
   "metadata": {},
   "source": [
    "Topic"
   ]
  },
  {
   "cell_type": "code",
   "execution_count": 17,
   "metadata": {},
   "outputs": [],
   "source": [
    "restaurant = Topic()\n",
    "restaurant.vocabulary = [\"restaurant\",\"eating\",\"food\", \"eat\"]\n",
    "restaurant.scenarios = [sushi, vegan, itaRes]\n",
    "restaurant.build_vocabulary()\n",
    "restaurant.data_base = restoData\n",
    "restaurant.frames = [neighborhood]\n",
    "restaurant.filter = \"neighborhood\"\n",
    "restaurant.name = \"restaurants\""
   ]
  },
  {
   "cell_type": "markdown",
   "metadata": {},
   "source": [
    "* Commute info \n",
    "\n",
    "Frames"
   ]
  },
  {
   "cell_type": "code",
   "execution_count": 18,
   "metadata": {},
   "outputs": [],
   "source": [
    "#Retrieve neighbor\n",
    "station = Frame()\n",
    "station.name = \"station\"\n",
    "station.priority = 1\n",
    "station.questions = [\"Where are you now?\", \"What station are you at?\", \"At what bus/tram stop?\"]\n",
    "station.decoder = \"(?:is |for |about |in )+(\\w+)\""
   ]
  },
  {
   "cell_type": "markdown",
   "metadata": {},
   "source": [
    "Data Base"
   ]
  },
  {
   "cell_type": "code",
   "execution_count": 19,
   "metadata": {},
   "outputs": [],
   "source": [
    "commuteData = pd.DataFrame({\"station\": [\"elisedal\", \"almedal\",\"varbergsgatan\",\"lana\",\"krokslätts torg\" ],  \n",
    "                     \"tram\": [\"10:30\", \"11:30\", \"12:30\", \"13:30\", \"14:30\"],\n",
    "                     \"bus\": [\"10:45\", \"11:45\", \"12:45\", \"13:45\", \"14:45\"]})"
   ]
  },
  {
   "cell_type": "markdown",
   "metadata": {},
   "source": [
    "Scenarios"
   ]
  },
  {
   "cell_type": "code",
   "execution_count": 20,
   "metadata": {},
   "outputs": [],
   "source": [
    "\"\"\"\n",
    "Commute info Scenarios\n",
    "\"\"\"\n",
    "tram = Scenario()\n",
    "tram.vocabulary = [\"tram\", \"tramline\"]\n",
    "tram.name = \"tram\"\n",
    "tram.question = \"Do you want to know when the tram leaves?\"\n",
    "tram.needed_information =[\"tram\", \"station\"]\n",
    "\n",
    "bus = Scenario()\n",
    "bus.vocabulary =[\"bus\",\"autobus\"]\n",
    "bus.name = \"bus\"\n",
    "bus.question = \"Do you want to know when the bus leaves?\"\n",
    "bus.needed_information = [\"bus\", \"station\"]\n"
   ]
  },
  {
   "cell_type": "markdown",
   "metadata": {},
   "source": [
    "Topic"
   ]
  },
  {
   "cell_type": "code",
   "execution_count": 21,
   "metadata": {},
   "outputs": [],
   "source": [
    "commuteInfo = Topic()\n",
    "commuteInfo.vocabulary = [\"station\",\"line\",\"stop\"]   \n",
    "commuteInfo.scenarios = [tram, bus]\n",
    "commuteInfo.build_vocabulary()\n",
    "commuteInfo.frames = [station]\n",
    "commuteInfo.data_base = commuteData\n",
    "commuteInfo.filter = \"station\"\n",
    "commuteInfo.name = \"arrival times for bus and tram\""
   ]
  },
  {
   "cell_type": "markdown",
   "metadata": {},
   "source": [
    "# Chatbot"
   ]
  },
  {
   "cell_type": "code",
   "execution_count": 22,
   "metadata": {},
   "outputs": [],
   "source": [
    "chatbot = Chatbot()\n",
    "chatbot.topics = [weather, restaurant, commuteInfo]"
   ]
  },
  {
   "cell_type": "code",
   "execution_count": 24,
   "metadata": {},
   "outputs": [
    {
     "name": "stdout",
     "output_type": "stream",
     "text": [
      "Welcome to the Chatbot!\n",
      "I provide information about weather, restaurants, arrival times for bus and tram.\n",
      "In order to shut me down, input STOP.\n",
      "\n",
      "Chatbot:  What do you want to know?\n",
      "User:  shit\n",
      "Chatbot:  I am sorry, I did not understand you. Try again please. What do you want to know?\n",
      "User:  i want to find a restaurant\n",
      "Chatbot:  Are you looking for a sushi restaurant?\n",
      "User:  no\n",
      "Chatbot:  Are you looking for a vegan restaurant?\n",
      "User:  no\n",
      "Chatbot:  Are you looking for an Italian restaurant?\n",
      "User:  no\n",
      "Chatbot:  I am sorry, I don't have more information. Try again please. What do you want to know?\n",
      "User:  STOP\n",
      "The Chatbot has been turned off\n"
     ]
    }
   ],
   "source": [
    "chatbot.start_chatbot()"
   ]
  }
 ],
 "metadata": {
  "interpreter": {
   "hash": "81d571fb6155e9824af6ce79a9385db6d1fad418e547fb1d894ef617504fe823"
  },
  "kernelspec": {
   "display_name": "Python 3.8.12 ('venv')",
   "language": "python",
   "name": "python3"
  },
  "language_info": {
   "codemirror_mode": {
    "name": "ipython",
    "version": 3
   },
   "file_extension": ".py",
   "mimetype": "text/x-python",
   "name": "python",
   "nbconvert_exporter": "python",
   "pygments_lexer": "ipython3",
   "version": "3.8.12"
  },
  "orig_nbformat": 4
 },
 "nbformat": 4,
 "nbformat_minor": 2
}
